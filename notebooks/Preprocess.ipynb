{
 "cells": [
  {
   "cell_type": "code",
   "execution_count": 1,
   "id": "636e530e-d54a-425a-90e8-082f62f0b6b7",
   "metadata": {},
   "outputs": [],
   "source": [
    "import pandas as pd\n",
    "import numpy as np\n",
    "import geocoder\n",
    "import re\n",
    "from datetime import datetime"
   ]
  },
  {
   "cell_type": "code",
   "execution_count": 2,
   "id": "1c32be97-fd45-4af1-a900-ab9403eae94f",
   "metadata": {},
   "outputs": [],
   "source": [
    "# Load Dataset\n",
    "df = pd.read_csv(\"World Important Dates.csv\")"
   ]
  },
  {
   "cell_type": "code",
   "execution_count": 3,
   "id": "9901c027-2288-4751-a460-ce2e28a3a67f",
   "metadata": {},
   "outputs": [],
   "source": [
    "# Since they contain unknown data\n",
    "df = df.drop(columns=['Date', 'Month'])"
   ]
  },
  {
   "cell_type": "code",
   "execution_count": 4,
   "id": "de4cbca7-bc5c-4d60-a87e-4e467863d600",
   "metadata": {},
   "outputs": [],
   "source": [
    "# Filter out rows where 'Year' contains non-numeric characters\n",
    "df = df[df[\"Year\"].astype(str).str.match(r\"^\\d+$\")]"
   ]
  },
  {
   "cell_type": "code",
   "execution_count": 5,
   "id": "438d3638-e21c-4b74-941c-e55fe3d2629d",
   "metadata": {
    "scrolled": true
   },
   "outputs": [
    {
     "name": "stdout",
     "output_type": "stream",
     "text": [
      "      Sl. No                      Name of Incident  Year Country  \\\n",
      "2          6  Establishment of the Delhi Sultanate  1206   India   \n",
      "3          7                     Battle of Panipat  1526   India   \n",
      "4          8          Establishment of British Raj  1858   India   \n",
      "5          9                    Partition of India  1947   India   \n",
      "6         10      IndoUnknownPakistani War of 1971  1971   India   \n",
      "...      ...                                   ...   ...     ...   \n",
      "1091    1147         First Mexican Empire Declared  1821  Mexico   \n",
      "1092    1148                U.S.UnknownMexican War  1846  Mexico   \n",
      "1093    1149                           Reform Wars  1857  Mexico   \n",
      "1094    1150         French Intervention in Mexico  1862  Mexico   \n",
      "1095    1151                    Mexican Revolution  1910  Mexico   \n",
      "\n",
      "              Type of Event       Place Name  \\\n",
      "2                 Political            Delhi   \n",
      "3                    Battle          Panipat   \n",
      "4                  Colonial      Whole India   \n",
      "5                 Partition   India/Pakistan   \n",
      "6                       War       Bangladesh   \n",
      "...                     ...              ...   \n",
      "1091              Political           Mexico   \n",
      "1092               Military  Northern Mexico   \n",
      "1093              Civil War           Mexico   \n",
      "1094  Military Intervention           Mexico   \n",
      "1095             Revolution           Mexico   \n",
      "\n",
      "                                                 Impact  \\\n",
      "2             Muslim rule established in parts of India   \n",
      "3              Foundation of the Mughal Empire in India   \n",
      "4           Start of direct British governance in India   \n",
      "5     Creation of India and Pakistan; massive popula...   \n",
      "6                 Led to the independence of Bangladesh   \n",
      "...                                                 ...   \n",
      "1091  Brief establishment of an empire soon transiti...   \n",
      "1092      Loss of vast territories to the United States   \n",
      "1093  Liberal vs. Conservative conflict leading to c...   \n",
      "1094  Establishment and fall of the Second Mexican E...   \n",
      "1095  Major revolution that transformed Mexican poli...   \n",
      "\n",
      "                          Affected Population  \\\n",
      "2     People of Delhi and surrounding regions   \n",
      "3                    Northern Indian kingdoms   \n",
      "4                         Indian subcontinent   \n",
      "5                      Hindus, Muslims, Sikhs   \n",
      "6                   Bengalis in East Pakistan   \n",
      "...                                       ...   \n",
      "1091                                 Mexicans   \n",
      "1092                                 Mexicans   \n",
      "1093                                 Mexicans   \n",
      "1094                                 Mexicans   \n",
      "1095                                 Mexicans   \n",
      "\n",
      "            Important Person/Group Responsible   Outcome  \n",
      "2                QutbUnknownudUnknowndin Aibak     Mixed  \n",
      "3                                        Babur     Mixed  \n",
      "4            British East India Company/Empire  Negative  \n",
      "5     British Empire, Indian political leaders  Negative  \n",
      "6                Indian Military, Mukti Bahini  Negative  \n",
      "...                                        ...       ...  \n",
      "1091                       Agustín de Iturbide  Positive  \n",
      "1092                                        US  Negative  \n",
      "1093                             Benito Juárez     Mixed  \n",
      "1094                              Napoleon III  Negative  \n",
      "1095                       Francisco I. Madero  Positive  \n",
      "\n",
      "[1089 rows x 10 columns]\n"
     ]
    }
   ],
   "source": [
    "print(df)"
   ]
  },
  {
   "cell_type": "code",
   "execution_count": 6,
   "id": "f3af7142-2253-4fbc-8b2d-7b333a7b30a5",
   "metadata": {},
   "outputs": [],
   "source": [
    "# 3. Geocode Locations based on Country\n",
    "def get_coordinates(place_name):\n",
    "    g = geocoder.arcgis(place_name)\n",
    "    return g.latlng if g.latlng else [None, None]\n",
    "\n",
    "df[[\"Latitude\", \"Longitude\"]] = df[\"Country\"].apply(lambda x: pd.Series(get_coordinates(x)))"
   ]
  },
  {
   "cell_type": "code",
   "execution_count": 7,
   "id": "323ce3fb-128b-4f7a-8f50-1d9300e5881b",
   "metadata": {},
   "outputs": [],
   "source": [
    "# 4. Clean Text Data for outcome and impact\n",
    "def clean_text(text):\n",
    "    text = text.lower().strip()\n",
    "    text = re.sub(r\"[^a-zA-Z0-9., ]\", \"\", text)  # Remove special characters\n",
    "    return text\n",
    "\n",
    "df[\"Cleaned Outcome\"] = df[\"Outcome\"].apply(clean_text)\n",
    "df[\"Cleaned Impact\"] = df[\"Impact\"].apply(clean_text)\n",
    "df[\"Cleaned Incident\"] = df[\"Name of Incident\"].apply(clean_text)\n",
    "df[\"Cleaned Event\"] = df[\"Type of Event\"].apply(clean_text)\n",
    "df[\"Cleaned Group\"] = df[\"Important Person/Group Responsible\"].apply(clean_text)"
   ]
  },
  {
   "cell_type": "code",
   "execution_count": 8,
   "id": "4786ca5c-9d20-4b47-87e6-fb07e299a7da",
   "metadata": {},
   "outputs": [],
   "source": [
    "# 5. Structure Data for ArangoDB\n",
    "df.rename(columns={\n",
    "    \"Sl. No\": \"_key\",  # Unique identifier\n",
    "    \"Country\": \"Location\",\n",
    "}, inplace=True)\n",
    "\n",
    "data_for_arangodb = df[[\"_key\", \"Cleaned Incident\", \"Year\", \"Cleaned Event\", \"Location\", \"Latitude\", \"Longitude\", \"Cleaned Impact\", \"Cleaned Group\", \"Cleaned Outcome\"]]"
   ]
  },
  {
   "cell_type": "code",
   "execution_count": 9,
   "id": "1f9342a9-2ab6-4cde-8090-436898e61764",
   "metadata": {},
   "outputs": [
    {
     "name": "stdout",
     "output_type": "stream",
     "text": [
      "Preprocessing completed. Data saved as 'processed_dataset.csv'\n"
     ]
    }
   ],
   "source": [
    "# Save Processed Data\n",
    "data_for_arangodb.to_csv(\"processed_dataset.csv\", index=False)\n",
    "\n",
    "print(\"Preprocessing completed. Data saved as 'processed_dataset.csv'\")\n"
   ]
  },
  {
   "cell_type": "code",
   "execution_count": null,
   "id": "12c820d6-8f02-4190-a4aa-839cdceddbf4",
   "metadata": {},
   "outputs": [],
   "source": []
  }
 ],
 "metadata": {
  "kernelspec": {
   "display_name": "Python 3 (ipykernel)",
   "language": "python",
   "name": "python3"
  },
  "language_info": {
   "codemirror_mode": {
    "name": "ipython",
    "version": 3
   },
   "file_extension": ".py",
   "mimetype": "text/x-python",
   "name": "python",
   "nbconvert_exporter": "python",
   "pygments_lexer": "ipython3",
   "version": "3.11.7"
  }
 },
 "nbformat": 4,
 "nbformat_minor": 5
}
