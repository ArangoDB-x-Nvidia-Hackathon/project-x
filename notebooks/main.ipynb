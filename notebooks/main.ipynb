{
 "cells": [
  {
   "cell_type": "code",
   "execution_count": 33,
   "metadata": {},
   "outputs": [],
   "source": [
    "import pandas as pd\n",
    "import matplotlib.pyplot as plt\n",
    "import networkx as nx\n",
    "import nx_arangodb as nxadb\n",
    "import os\n",
    "\n",
    "from dotenv import load_dotenv\n",
    "from arango import ArangoClient\n",
    "from arango_datasets import Datasets\n",
    "\n"
   ]
  },
  {
   "cell_type": "code",
   "execution_count": 29,
   "metadata": {},
   "outputs": [],
   "source": [
    "# Load environment variables from .env file\n",
    "load_dotenv()\n",
    "\n",
    "# Initialize the ArangoDB client.\n",
    "host = os.getenv(\"HOST\")\n",
    "username = os.getenv(\"USER\")\n",
    "password = os.getenv(\"PASSWORD\")\n"
   ]
  },
  {
   "cell_type": "code",
   "execution_count": null,
   "metadata": {},
   "outputs": [],
   "source": [
    "# Connect to database\n",
    "db = ArangoClient(hosts=host).db(username= username, password=password, verify=True)\n",
    "\n",
    "# Connect to datasets\n",
    "datasets = Datasets(db)\n",
    "\n",
    "print(datasets.dataset_info(\"OPEN_INTELLIGENCE\"))\n",
    "dataset_name = \"OPEN_INTELLIGENCE\"\n",
    "\n",
    "existing_collections = [col[\"name\"] for col in db.collections() if not col[\"system\"]]\n",
    "\n",
    "if any(dataset_name in col for col in existing_collections):\n",
    "    print(f\"Dataset '{dataset_name}' already exists. Skipping reload.\")\n",
    "else:\n",
    "    gdelt = datasets.load(dataset_name, preserve_existing=True)\n",
    "    print(\"Dataset loaded successfully!\")\n"
   ]
  },
  {
   "cell_type": "code",
   "execution_count": null,
   "metadata": {},
   "outputs": [],
   "source": [
    "# Extract edge collection from the loaded dataset\n",
    "edge_collection = \"hasLocation\"  # Change this based on which edge collection you want\n",
    "\n",
    "# Fetch edges from ArangoDB\n",
    "edges = db.collection(edge_collection).all()\n",
    "\n",
    "# Convert edges to a Pandas DataFrame\n",
    "df = pd.DataFrame(edges)\n",
    "\n",
    "# Ensure correct column names for NetworkX\n",
    "df.rename(columns={\"_from\": \"start_node\", \"_to\": \"end_node\"}, inplace=True)\n",
    "\n",
    "# Create Graph\n",
    "G = nx.from_pandas_edgelist(df, \"start_node\", \"end_node\")\n",
    "\n",
    "# Plot Graph\n",
    "plot_options = {\"node_size\": 10, \"with_labels\": False, \"width\": 0.15}\n",
    "pos = nx.spring_layout(G, iterations=15, seed=1721)\n",
    "fig, ax = plt.subplots(figsize=(15, 9))\n",
    "nx.draw_networkx(G, pos=pos, ax=ax, **plot_options)\n",
    "\n",
    "plt.show()"
   ]
  }
 ],
 "metadata": {
  "kernelspec": {
   "display_name": "venv",
   "language": "python",
   "name": "python3"
  },
  "language_info": {
   "codemirror_mode": {
    "name": "ipython",
    "version": 3
   },
   "file_extension": ".py",
   "mimetype": "text/x-python",
   "name": "python",
   "nbconvert_exporter": "python",
   "pygments_lexer": "ipython3",
   "version": "3.12.5"
  }
 },
 "nbformat": 4,
 "nbformat_minor": 2
}
