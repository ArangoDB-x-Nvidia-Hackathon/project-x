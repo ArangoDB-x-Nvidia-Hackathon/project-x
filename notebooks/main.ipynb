{
 "cells": [
  {
   "cell_type": "code",
   "execution_count": 5,
   "metadata": {},
   "outputs": [],
   "source": [
    "import pandas\n",
    "import matplotlib\n",
    "from arango import ArangoClient\n",
    "from arango_datasets import Datasets\n",
    "import os\n",
    "from dotenv import load_dotenv\n",
    "\n"
   ]
  },
  {
   "cell_type": "code",
   "execution_count": 6,
   "metadata": {},
   "outputs": [],
   "source": [
    "# Load environment variables from .env file\n",
    "load_dotenv()\n",
    "\n",
    "# Initialize the ArangoDB client.\n",
    "host = os.getenv(\"HOST\")\n",
    "username = os.getenv(\"USER\")\n",
    "password = os.getenv(\"PASSWORD\")\n"
   ]
  },
  {
   "cell_type": "code",
   "execution_count": null,
   "metadata": {},
   "outputs": [],
   "source": [
    "# Connect to database\n",
    "db = ArangoClient(hosts=host).db(username= username, password=password, verify=True)\n",
    "\n",
    "# Connect to datasets\n",
    "datasets = Datasets(db)\n",
    "\n",
    "print(datasets.dataset_info(\"OPEN_INTELLIGENCE\"))\n",
    "\n",
    "datasets.load(\"OPEN_INTELLIGENCE\")"
   ]
  }
 ],
 "metadata": {
  "kernelspec": {
   "display_name": "venv",
   "language": "python",
   "name": "python3"
  },
  "language_info": {
   "codemirror_mode": {
    "name": "ipython",
    "version": 3
   },
   "file_extension": ".py",
   "mimetype": "text/x-python",
   "name": "python",
   "nbconvert_exporter": "python",
   "pygments_lexer": "ipython3",
   "version": "3.12.5"
  }
 },
 "nbformat": 4,
 "nbformat_minor": 2
}
