{
 "cells": [
  {
   "cell_type": "code",
   "execution_count": 1,
   "metadata": {},
   "outputs": [],
   "source": [
    "import pandas\n",
    "import matplotlib\n",
    "from arango import ArangoClient\n",
    "from arango_datasets import Datasets"
   ]
  },
  {
   "cell_type": "code",
   "execution_count": null,
   "metadata": {},
   "outputs": [],
   "source": [
    "# Connect to database\n",
    "db = ArangoClient(hosts=...).db(username=..., password=..., verify=True)\n",
    "\n",
    "# Connect to datasets\n",
    "datasets = Datasets(db)\n",
    "\n",
    "print(datasets.dataset_info(\"OPEN_INTELLIGENCE\"))\n",
    "\n",
    "datasets.load(\"OPEN_INTELLIGENCE\")"
   ]
  }
 ],
 "metadata": {
  "kernelspec": {
   "display_name": "venv",
   "language": "python",
   "name": "python3"
  },
  "language_info": {
   "codemirror_mode": {
    "name": "ipython",
    "version": 3
   },
   "file_extension": ".py",
   "mimetype": "text/x-python",
   "name": "python",
   "nbconvert_exporter": "python",
   "pygments_lexer": "ipython3",
   "version": "3.12.5"
  }
 },
 "nbformat": 4,
 "nbformat_minor": 2
}
