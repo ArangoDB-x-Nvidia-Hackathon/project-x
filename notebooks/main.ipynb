{
 "cells": [
  {
   "cell_type": "code",
   "execution_count": null,
   "metadata": {
    "vscode": {
     "languageId": "plaintext"
    }
   },
   "outputs": [],
   "source": [
    "import pandas\n",
    "import matplotlib\n",
    "from arango import ArangoClient\n",
    "from arango_datasets import Datasets"
   ]
  },
  {
   "cell_type": "code",
   "execution_count": null,
   "metadata": {
    "vscode": {
     "languageId": "plaintext"
    }
   },
   "outputs": [],
   "source": [
    "# Connect to database\n",
    "db = ArangoClient(hosts=...).db(username=..., password=..., verify=True)\n",
    "\n",
    "# Connect to datasets\n",
    "datasets = Datasets(db)\n",
    "\n",
    "print(datasets.dataset_info(\"OPEN_INTELLIGENCE\"))\n",
    "\n",
    "datasets.load(\"OPEN_INTELLIGENCE\")"
   ]
  }
 ],
 "metadata": {
  "language_info": {
   "name": "python"
  }
 },
 "nbformat": 4,
 "nbformat_minor": 2
}
