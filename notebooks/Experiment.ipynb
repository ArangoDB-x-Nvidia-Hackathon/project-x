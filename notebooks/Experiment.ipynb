{
 "cells": [
  {
   "cell_type": "code",
   "execution_count": 1,
   "id": "0f0c0288-0327-41e9-b911-264fcb51923a",
   "metadata": {},
   "outputs": [],
   "source": [
    "# Import Required Libraries\n",
    "from arango import ArangoClient\n",
    "import pandas as pd\n",
    "import networkx as nx\n",
    "import matplotlib.pyplot as plt\n",
    "import community  # Louvain Community Detection\n",
    "import os\n",
    "from dotenv import load_dotenv"
   ]
  },
  {
   "cell_type": "code",
   "execution_count": 2,
   "id": "a7ca12d4-17a1-4636-8093-d6a0725959dd",
   "metadata": {},
   "outputs": [],
   "source": [
    "# Load environment variables from .env file\n",
    "load_dotenv()\n",
    "\n",
    "# Initialize the ArangoDB client.\n",
    "host = os.getenv(\"HOST\")\n",
    "username = os.getenv(\"USER\")\n",
    "password = os.getenv(\"PASSWORD\")\n",
    "db_name = \"_system\""
   ]
  },
  {
   "cell_type": "code",
   "execution_count": 3,
   "id": "a22ba407-3fad-4d6c-8a4d-730a9a01a964",
   "metadata": {},
   "outputs": [],
   "source": [
    "client = ArangoClient(hosts=host)\n",
    "db = client.db(db_name, username=username, password=password, verify=True)"
   ]
  },
  {
   "cell_type": "code",
   "execution_count": 4,
   "id": "d034148c-c33c-4691-8dae-7cf9eb3d0b32",
   "metadata": {},
   "outputs": [],
   "source": [
    "# Load Edge Collection\n",
    "edge_collection = \"eventActor\"  # Change this to different edges like eventActor, hasLocation, etc.\n",
    "edges = list(db.collection(edge_collection).all())"
   ]
  },
  {
   "cell_type": "code",
   "execution_count": 5,
   "id": "ee8db18e-378e-43fb-8928-2af9835e68d0",
   "metadata": {},
   "outputs": [],
   "source": [
    "# Convert Edges to Pandas DataFrame\n",
    "df = pd.DataFrame(edges)\n",
    "df.rename(columns={\"_from\": \"start_node\", \"_to\": \"end_node\"}, inplace=True)"
   ]
  },
  {
   "cell_type": "code",
   "execution_count": 6,
   "id": "ee5adb2b-ac1d-4cc7-9b11-92a4145970f2",
   "metadata": {},
   "outputs": [],
   "source": [
    "# Create NetworkX Graph\n",
    "G = nx.from_pandas_edgelist(df, \"start_node\", \"end_node\")"
   ]
  },
  {
   "cell_type": "code",
   "execution_count": null,
   "id": "40326645-c4f4-4b0e-a2f0-67be4ed9000e",
   "metadata": {},
   "outputs": [],
   "source": [
    "# Plot the Initial Graph\n",
    "plt.figure(figsize=(15, 9))\n",
    "nx.draw(G, with_labels=False, node_size=10, width=0.15)\n",
    "plt.title(\"Geopolitical Influence Graph\")\n",
    "plt.show()"
   ]
  },
  {
   "cell_type": "markdown",
   "id": "4c79204b-d5b0-4285-9768-3525a66f218a",
   "metadata": {},
   "source": [
    "# 1. Compute Centrality Measures"
   ]
  },
  {
   "cell_type": "code",
   "execution_count": null,
   "id": "7dd9dd93-c804-4ef9-88b2-efa14dd02d64",
   "metadata": {},
   "outputs": [],
   "source": [
    "# Degree Centrality\n",
    "# Measure of no. of connections(edges) it has to others\n",
    "degree_centrality = nx.degree_centrality(G)\n",
    "top_degree = sorted(degree_centrality.items(), key=lambda x: x[1], reverse=True)[:10]\n",
    "print(\"Top 10 Nodes by Degree Centrality:\", top_degree)"
   ]
  },
  {
   "cell_type": "code",
   "execution_count": null,
   "id": "893d8d29-28bd-4cfe-8965-09e0606d37d7",
   "metadata": {},
   "outputs": [],
   "source": [
    "# Betweenness Centrality\n",
    "# Measure how often a node lies between pair of other nodes\n",
    "betweenness_centrality = nx.betweenness_centrality(G)\n",
    "top_betweenness = sorted(betweenness_centrality.items(), key=lambda x: x[1], reverse=True)[:10]\n",
    "print(\"Top 10 Nodes by Betweenness Centrality:\", top_betweenness)"
   ]
  },
  {
   "cell_type": "code",
   "execution_count": null,
   "id": "8a9528aa-701c-4403-8352-e77f13d64f3d",
   "metadata": {},
   "outputs": [],
   "source": [
    "# PageRank (Influence Score)\n",
    "# self explanatory\n",
    "pagerank = nx.pagerank(G)\n",
    "top_pagerank = sorted(pagerank.items(), key=lambda x: x[1], reverse=True)[:10]\n",
    "print(\"Top 10 Nodes by PageRank:\", top_pagerank)"
   ]
  },
  {
   "cell_type": "markdown",
   "id": "af71337b-c509-4c7c-b556-553f4ad6d7d6",
   "metadata": {},
   "source": [
    "# 2. Identify Key Political Figures"
   ]
  },
  {
   "cell_type": "code",
   "execution_count": null,
   "id": "5349fedf-5b04-4f3a-ba0f-da63011ed97e",
   "metadata": {},
   "outputs": [],
   "source": [
    "# Find Specific Political Figures\n",
    "political_figures = [node for node in G.nodes if \"Barack_Obama\" in node or \"Vladimir_Putin\" in node]\n",
    "\n",
    "for figure in political_figures:\n",
    "    print(f\"{figure}: Degree = {degree_centrality.get(figure, 0)}, PageRank = {pagerank.get(figure, 0)}\")"
   ]
  },
  {
   "cell_type": "markdown",
   "id": "44ebac09-acb0-470a-99f5-6eedce8182a6",
   "metadata": {},
   "source": [
    "# 3. Find Paths of Influence"
   ]
  },
  {
   "cell_type": "code",
   "execution_count": null,
   "id": "a947e076-2d19-482a-ba3b-4d594f5b87b0",
   "metadata": {
    "scrolled": true
   },
   "outputs": [],
   "source": [
    "# Shortest Path Between Two Figures\n",
    "source_node = \"Actor/Barack_Obama\"\n",
    "target_node = \"Actor/Vladimir_Putin\"\n",
    "\n",
    "if nx.has_path(G, source_node, target_node):\n",
    "    path = nx.shortest_path(G, source=source_node, target=target_node)\n",
    "    print(f\"Shortest Path between {source_node} and {target_node}:\", path)\n",
    "else:\n",
    "    print(\"No direct path found.\")\n",
    "\n",
    "# Nodes Influenced by a Political Figure\n",
    "if source_node in G:\n",
    "    descendants = nx.descendants(G, source_node)\n",
    "    print(f\"Nodes influenced by {source_node}:\", descendants)\n",
    "\n",
    "# Nodes Influencing a Political Figure\n",
    "if target_node in G:\n",
    "    predecessors = nx.ancestors(G, target_node)\n",
    "    print(f\"Nodes that influenced {target_node}:\", predecessors)"
   ]
  },
  {
   "cell_type": "markdown",
   "id": "4f34e37f-6a59-4a5c-bdc2-51c3e4ca0f66",
   "metadata": {},
   "source": [
    "# 4. Detect Communities (Clusters of Influence)"
   ]
  },
  {
   "cell_type": "code",
   "execution_count": null,
   "id": "a5a983c5-f5cf-4b81-83f9-44ec445986ec",
   "metadata": {
    "scrolled": true
   },
   "outputs": [],
   "source": [
    "# Louvain Community Detection\n",
    "partition = community.best_partition(G)\n",
    "community_counts = {}\n",
    "for node, comm in partition.items():\n",
    "    community_counts[comm] = community_counts.get(comm, 0) + 1\n",
    "print(\"Community Distribution:\", community_counts)\n",
    "\n",
    "# Girvan-Newman Community Detection\n",
    "from networkx.algorithms.community import girvan_newman\n",
    "\n",
    "communities = girvan_newman(G)\n",
    "top_communities = next(communities)  # First level of hierarchy\n",
    "print(\"Communities:\", [list(c) for c in top_communities])"
   ]
  },
  {
   "cell_type": "markdown",
   "id": "d752f91d-1b23-49ee-96c7-19339745924a",
   "metadata": {},
   "source": [
    "# 5. Influence Over Time"
   ]
  },
  {
   "cell_type": "code",
   "execution_count": null,
   "id": "643d169e-9eea-4394-8ec8-4980d5ef7ef7",
   "metadata": {},
   "outputs": [],
   "source": [
    "query = \"\"\"\n",
    "FOR doc IN Event\n",
    "    FILTER doc.actor == \"Barack_Obama\"\n",
    "    RETURN {date: doc.date, influence: doc.influence_score}\n",
    "\"\"\"\n",
    "events = db.aql.execute(query)"
   ]
  },
  {
   "cell_type": "code",
   "execution_count": null,
   "id": "b14ff617-24e6-42e0-a150-ee01aee885f4",
   "metadata": {},
   "outputs": [],
   "source": [
    "# Extract Date and Influence Score\n",
    "dates, influence_scores = zip(*[(event[\"date\"], event[\"influence\"]) for event in events])\n",
    "\n",
    "# Plot Influence Over Time\n",
    "plt.figure(figsize=(12, 6))\n",
    "plt.plot(dates, influence_scores, marker=\"o\")\n",
    "plt.xlabel(\"Time\")\n",
    "plt.ylabel(\"Influence Score\")\n",
    "plt.title(\"Influence Over Time for Barack Obama\")\n",
    "plt.xticks(rotation=45)\n",
    "plt.show()"
   ]
  },
  {
   "cell_type": "markdown",
   "id": "69cbd9c9-abb8-4331-9e7d-7e7830c9455e",
   "metadata": {},
   "source": [
    "# 6. Visualize the Influence of a Political Figure"
   ]
  },
  {
   "cell_type": "code",
   "execution_count": null,
   "id": "30253d46-bf17-4f16-ba58-a3c8ae59d60f",
   "metadata": {
    "scrolled": true
   },
   "outputs": [],
   "source": [
    "# Extract a Subgraph for Barack Obama\n",
    "sub_nodes = list(nx.descendants(G, source_node)) + [source_node]\n",
    "sub_G = G.subgraph(sub_nodes)\n",
    "\n",
    "plt.figure(figsize=(12, 8))\n",
    "pos = nx.spring_layout(sub_G)\n",
    "nx.draw(sub_G, pos, with_labels=True, node_color=\"skyblue\", edge_color=\"gray\", node_size=100, font_size=8)\n",
    "plt.title(\"Influence Network of Barack Obama\")\n",
    "plt.show()"
   ]
  },
  {
   "cell_type": "code",
   "execution_count": null,
   "id": "a33385b8-e965-4e37-b36e-dd08b142c376",
   "metadata": {},
   "outputs": [],
   "source": []
  }
 ],
 "metadata": {
  "kernelspec": {
   "display_name": "Python 3 (ipykernel)",
   "language": "python",
   "name": "python3"
  },
  "language_info": {
   "codemirror_mode": {
    "name": "ipython",
    "version": 3
   },
   "file_extension": ".py",
   "mimetype": "text/x-python",
   "name": "python",
   "nbconvert_exporter": "python",
   "pygments_lexer": "ipython3",
   "version": "3.11.4"
  }
 },
 "nbformat": 4,
 "nbformat_minor": 5
}
