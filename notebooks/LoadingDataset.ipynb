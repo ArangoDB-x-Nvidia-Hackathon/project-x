{
 "cells": [
  {
   "cell_type": "markdown",
   "id": "0a850240-b475-4860-b81f-9763b1534755",
   "metadata": {},
   "source": [
    "# The Dataset loading procedure to the ArangoDB"
   ]
  },
  {
   "cell_type": "code",
   "execution_count": 5,
   "id": "f891d1c1-ec8b-4cfd-9b31-af2d3efb4335",
   "metadata": {},
   "outputs": [],
   "source": [
    "import os\n",
    "from dotenv import load_dotenv\n",
    "from arango import ArangoClient\n",
    "from arango_datasets import Datasets"
   ]
  },
  {
   "cell_type": "code",
   "execution_count": 6,
   "id": "6bdbffa8-f846-40ac-ae8d-0d2c0ff25a69",
   "metadata": {},
   "outputs": [],
   "source": [
    "# Load environment variables from .env file\n",
    "load_dotenv()\n",
    "\n",
    "# Initialize the ArangoDB client.\n",
    "host = os.getenv(\"HOST\")\n",
    "username = os.getenv(\"USER\")\n",
    "password = os.getenv(\"PASSWORD\")"
   ]
  },
  {
   "cell_type": "code",
   "execution_count": null,
   "id": "cdb431cf-a6dd-49d7-86f1-d174172b14eb",
   "metadata": {},
   "outputs": [],
   "source": [
    "# Connect to database\n",
    "db = ArangoClient(hosts=host).db(username= username, password=password, verify=True)\n",
    "\n",
    "# Connect to datasets\n",
    "datasets = Datasets(db)"
   ]
  },
  {
   "cell_type": "code",
   "execution_count": null,
   "id": "6aecdbb0-b718-49ab-9587-c9162cb998e2",
   "metadata": {
    "scrolled": true
   },
   "outputs": [],
   "source": [
    "print(datasets.dataset_info(\"OPEN_INTELLIGENCE\"))\n",
    "dataset_name = \"OPEN_INTELLIGENCE\"\n",
    "\n",
    "existing_collections = [col[\"name\"] for col in db.collections() if not col[\"system\"]]\n",
    "\n",
    "if any(dataset_name in col for col in existing_collections):\n",
    "    print(f\"Dataset '{dataset_name}' already exists. Skipping reload.\")\n",
    "else:\n",
    "    gdelt = datasets.load(dataset_name, preserve_existing=True)\n",
    "    print(\"Dataset loaded successfully!\")"
   ]
  }
 ],
 "metadata": {
  "kernelspec": {
   "display_name": "Python 3 (ipykernel)",
   "language": "python",
   "name": "python3"
  },
  "language_info": {
   "codemirror_mode": {
    "name": "ipython",
    "version": 3
   },
   "file_extension": ".py",
   "mimetype": "text/x-python",
   "name": "python",
   "nbconvert_exporter": "python",
   "pygments_lexer": "ipython3",
   "version": "3.11.4"
  }
 },
 "nbformat": 4,
 "nbformat_minor": 5
}
