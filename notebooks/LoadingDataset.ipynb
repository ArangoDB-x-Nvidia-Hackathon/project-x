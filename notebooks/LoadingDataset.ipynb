{
 "cells": [
  {
   "cell_type": "markdown",
   "id": "0a850240-b475-4860-b81f-9763b1534755",
   "metadata": {},
   "source": [
    "# The Dataset loading procedure to the ArangoDB"
   ]
  },
  {
   "cell_type": "code",
   "execution_count": 5,
   "id": "f891d1c1-ec8b-4cfd-9b31-af2d3efb4335",
   "metadata": {},
   "outputs": [],
   "source": [
    "import os\n",
    "from dotenv import load_dotenv\n",
    "from arango import ArangoClient\n",
    "from arango_datasets import Datasets"
   ]
  },
  {
   "cell_type": "code",
   "execution_count": 6,
   "id": "6bdbffa8-f846-40ac-ae8d-0d2c0ff25a69",
   "metadata": {},
   "outputs": [],
   "source": [
    "# Load environment variables from .env file\n",
    "load_dotenv()\n",
    "\n",
    "# Initialize the ArangoDB client.\n",
    "host = os.getenv(\"HOST\")\n",
    "username = os.getenv(\"USER\")\n",
    "password = os.getenv(\"PASSWORD\")"
   ]
  },
  {
   "cell_type": "code",
   "execution_count": 7,
   "id": "cdb431cf-a6dd-49d7-86f1-d174172b14eb",
   "metadata": {},
   "outputs": [
    {
     "data": {
      "application/vnd.jupyter.widget-view+json": {
       "model_id": "c758900521bd4c8787776ca142ace18a",
       "version_major": 2,
       "version_minor": 0
      },
      "text/plain": [
       "Output()"
      ]
     },
     "metadata": {},
     "output_type": "display_data"
    },
    {
     "data": {
      "text/html": [
       "<pre style=\"white-space:pre;overflow-x:auto;line-height:normal;font-family:Menlo,'DejaVu Sans Mono',consolas,'Courier New',monospace\"></pre>\n"
      ],
      "text/plain": []
     },
     "metadata": {},
     "output_type": "display_data"
    }
   ],
   "source": [
    "# Connect to database\n",
    "db = ArangoClient(hosts=host).db(username= username, password=password, verify=True)\n",
    "\n",
    "# Connect to datasets\n",
    "datasets = Datasets(db)"
   ]
  },
  {
   "cell_type": "code",
   "execution_count": 8,
   "id": "6aecdbb0-b718-49ab-9587-c9162cb998e2",
   "metadata": {
    "scrolled": true
   },
   "outputs": [
    {
     "name": "stdout",
     "output_type": "stream",
     "text": [
      "{'files': 14, 'edges': [{'collection_name': 'eventActor', 'files': ['https://arangodb-dataset-library-ml.s3.amazonaws.com/open_intelligence/edge_collection/eventActor.json']}, {'collection_name': 'hasLocation', 'files': ['https://arangodb-dataset-library-ml.s3.amazonaws.com/open_intelligence/edge_collection/hasLocation.json']}, {'collection_name': 'hasSource', 'files': ['https://arangodb-dataset-library-ml.s3.amazonaws.com/open_intelligence/edge_collection/hasSource.json']}, {'collection_name': 'inCountry', 'files': ['https://arangodb-dataset-library-ml.s3.amazonaws.com/open_intelligence/edge_collection/inCountry.json']}, {'collection_name': 'inRegion', 'files': ['https://arangodb-dataset-library-ml.s3.amazonaws.com/open_intelligence/edge_collection/inRegion.json']}, {'collection_name': 'subClass', 'files': ['https://arangodb-dataset-library-ml.s3.amazonaws.com/open_intelligence/edge_collection/subClass.json']}, {'collection_name': 'type', 'files': ['https://arangodb-dataset-library-ml.s3.amazonaws.com/open_intelligence/edge_collection/type.json']}], 'vertices': [{'collection_name': 'Actor', 'files': ['https://arangodb-dataset-library-ml.s3.amazonaws.com/open_intelligence/vertex_collection/Actor.json']}, {'collection_name': 'Class', 'files': ['https://arangodb-dataset-library-ml.s3.amazonaws.com/open_intelligence/vertex_collection/Class.json']}, {'collection_name': 'Country', 'files': ['https://arangodb-dataset-library-ml.s3.amazonaws.com/open_intelligence/vertex_collection/Country.json']}, {'collection_name': 'Event', 'files': ['https://arangodb-dataset-library-ml.s3.amazonaws.com/open_intelligence/vertex_collection/Event.json']}, {'collection_name': 'Location', 'files': ['https://arangodb-dataset-library-ml.s3.amazonaws.com/open_intelligence/vertex_collection/Location.json']}, {'collection_name': 'Region', 'files': ['https://arangodb-dataset-library-ml.s3.amazonaws.com/open_intelligence/vertex_collection/Region.json']}, {'collection_name': 'Source', 'files': ['https://arangodb-dataset-library-ml.s3.amazonaws.com/open_intelligence/vertex_collection/Source.json']}], 'file_type': 'json', 'label': 'OPEN_INTELLIGENCE', 'edge_definitions': [{'edge_collection': 'hasLocation', 'from_vertex_collections': ['Event'], 'to_vertex_collections': ['Location']}, {'edge_collection': 'hasSource', 'from_vertex_collections': ['Event'], 'to_vertex_collections': ['Source']}, {'edge_collection': 'inCountry', 'from_vertex_collections': ['Location'], 'to_vertex_collections': ['Country']}, {'edge_collection': 'inRegion', 'from_vertex_collections': ['Country'], 'to_vertex_collections': ['Region']}, {'edge_collection': 'eventActor', 'from_vertex_collections': ['Event'], 'to_vertex_collections': ['Actor']}, {'edge_collection': 'subClass', 'from_vertex_collections': ['Class'], 'to_vertex_collections': ['Class']}, {'edge_collection': 'type', 'from_vertex_collections': ['Event'], 'to_vertex_collections': ['Class']}]}\n",
      "Initializing collection 'Actor'\n"
     ]
    },
    {
     "ename": "CollectionCreateError",
     "evalue": "[HTTP 409][ERR 1207] duplicate name",
     "output_type": "error",
     "traceback": [
      "\u001b[31m---------------------------------------------------------------------------\u001b[39m",
      "\u001b[31mCollectionCreateError\u001b[39m                     Traceback (most recent call last)",
      "\u001b[36mCell\u001b[39m\u001b[36m \u001b[39m\u001b[32mIn[8]\u001b[39m\u001b[32m, line 9\u001b[39m\n\u001b[32m      7\u001b[39m     \u001b[38;5;28mprint\u001b[39m(\u001b[33mf\u001b[39m\u001b[33m\"\u001b[39m\u001b[33mDataset \u001b[39m\u001b[33m'\u001b[39m\u001b[38;5;132;01m{\u001b[39;00mdataset_name\u001b[38;5;132;01m}\u001b[39;00m\u001b[33m'\u001b[39m\u001b[33m already exists. Skipping reload.\u001b[39m\u001b[33m\"\u001b[39m)\n\u001b[32m      8\u001b[39m \u001b[38;5;28;01melse\u001b[39;00m:\n\u001b[32m----> \u001b[39m\u001b[32m9\u001b[39m     gdelt = \u001b[43mdatasets\u001b[49m\u001b[43m.\u001b[49m\u001b[43mload\u001b[49m\u001b[43m(\u001b[49m\u001b[43mdataset_name\u001b[49m\u001b[43m,\u001b[49m\u001b[43m \u001b[49m\u001b[43mpreserve_existing\u001b[49m\u001b[43m=\u001b[49m\u001b[38;5;28;43;01mTrue\u001b[39;49;00m\u001b[43m)\u001b[49m\n\u001b[32m     10\u001b[39m     \u001b[38;5;28mprint\u001b[39m(\u001b[33m\"\u001b[39m\u001b[33mDataset loaded successfully!\u001b[39m\u001b[33m\"\u001b[39m)\n",
      "\u001b[36mFile \u001b[39m\u001b[32mD:\\WorkShit\\project-x\\venv\\Lib\\site-packages\\arango_datasets\\datasets.py:117\u001b[39m, in \u001b[36mDatasets.load\u001b[39m\u001b[34m(self, dataset_name, batch_size, preserve_existing)\u001b[39m\n\u001b[32m    112\u001b[39m \u001b[38;5;28;01mfor\u001b[39;00m data, is_edge \u001b[38;5;129;01min\u001b[39;00m [\n\u001b[32m    113\u001b[39m     (dataset_contents[\u001b[33m\"\u001b[39m\u001b[33mvertices\u001b[39m\u001b[33m\"\u001b[39m], \u001b[38;5;28;01mFalse\u001b[39;00m),\n\u001b[32m    114\u001b[39m     (dataset_contents[\u001b[33m\"\u001b[39m\u001b[33medges\u001b[39m\u001b[33m\"\u001b[39m], \u001b[38;5;28;01mTrue\u001b[39;00m),\n\u001b[32m    115\u001b[39m ]:\n\u001b[32m    116\u001b[39m     \u001b[38;5;28;01mfor\u001b[39;00m col_data \u001b[38;5;129;01min\u001b[39;00m data:\n\u001b[32m--> \u001b[39m\u001b[32m117\u001b[39m         col = \u001b[38;5;28;43mself\u001b[39;49m\u001b[43m.\u001b[49m\u001b[43m__initialize_collection\u001b[49m\u001b[43m(\u001b[49m\u001b[43mcol_data\u001b[49m\u001b[43m[\u001b[49m\u001b[33;43m\"\u001b[39;49m\u001b[33;43mcollection_name\u001b[39;49m\u001b[33;43m\"\u001b[39;49m\u001b[43m]\u001b[49m\u001b[43m,\u001b[49m\u001b[43m \u001b[49m\u001b[43mis_edge\u001b[49m\u001b[43m)\u001b[49m\n\u001b[32m    119\u001b[39m         \u001b[38;5;28;01mfor\u001b[39;00m file \u001b[38;5;129;01min\u001b[39;00m col_data[\u001b[33m\"\u001b[39m\u001b[33mfiles\u001b[39m\u001b[33m\"\u001b[39m]:\n\u001b[32m    120\u001b[39m             \u001b[38;5;28mself\u001b[39m.__import_bulk(col, load_file_function(file))\n",
      "\u001b[36mFile \u001b[39m\u001b[32mD:\\WorkShit\\project-x\\venv\\Lib\\site-packages\\arango_datasets\\datasets.py:163\u001b[39m, in \u001b[36mDatasets.__initialize_collection\u001b[39m\u001b[34m(self, collection_name, is_edge)\u001b[39m\n\u001b[32m    160\u001b[39m \u001b[38;5;28;01mif\u001b[39;00m \u001b[38;5;129;01mnot\u001b[39;00m \u001b[38;5;28mself\u001b[39m.preserve_existing:\n\u001b[32m    161\u001b[39m     \u001b[38;5;28mself\u001b[39m.user_db.delete_collection(collection_name, ignore_missing=\u001b[38;5;28;01mTrue\u001b[39;00m)\n\u001b[32m--> \u001b[39m\u001b[32m163\u001b[39m \u001b[38;5;28;01mreturn\u001b[39;00m \u001b[38;5;28;43mself\u001b[39;49m\u001b[43m.\u001b[49m\u001b[43muser_db\u001b[49m\u001b[43m.\u001b[49m\u001b[43mcreate_collection\u001b[49m\u001b[43m(\u001b[49m\u001b[43mcollection_name\u001b[49m\u001b[43m,\u001b[49m\u001b[43m \u001b[49m\u001b[43medge\u001b[49m\u001b[43m=\u001b[49m\u001b[43mis_edge\u001b[49m\u001b[43m)\u001b[49m\n",
      "\u001b[36mFile \u001b[39m\u001b[32mD:\\WorkShit\\project-x\\venv\\Lib\\site-packages\\arango\\database.py:1590\u001b[39m, in \u001b[36mDatabase.create_collection\u001b[39m\u001b[34m(self, name, sync, system, edge, user_keys, key_increment, key_offset, key_generator, shard_fields, shard_count, replication_factor, shard_like, sync_replication, enforce_replication_factor, sharding_strategy, smart_join_attribute, write_concern, schema, computedValues)\u001b[39m\n\u001b[32m   1587\u001b[39m         \u001b[38;5;28;01mreturn\u001b[39;00m \u001b[38;5;28mself\u001b[39m.collection(name)\n\u001b[32m   1588\u001b[39m     \u001b[38;5;28;01mraise\u001b[39;00m CollectionCreateError(resp, request)\n\u001b[32m-> \u001b[39m\u001b[32m1590\u001b[39m \u001b[38;5;28;01mreturn\u001b[39;00m \u001b[38;5;28;43mself\u001b[39;49m\u001b[43m.\u001b[49m\u001b[43m_execute\u001b[49m\u001b[43m(\u001b[49m\u001b[43mrequest\u001b[49m\u001b[43m,\u001b[49m\u001b[43m \u001b[49m\u001b[43mresponse_handler\u001b[49m\u001b[43m)\u001b[49m\n",
      "\u001b[36mFile \u001b[39m\u001b[32mD:\\WorkShit\\project-x\\venv\\Lib\\site-packages\\arango\\api.py:74\u001b[39m, in \u001b[36mApiGroup._execute\u001b[39m\u001b[34m(self, request, response_handler)\u001b[39m\n\u001b[32m     63\u001b[39m \u001b[38;5;28;01mdef\u001b[39;00m\u001b[38;5;250m \u001b[39m\u001b[34m_execute\u001b[39m(\n\u001b[32m     64\u001b[39m     \u001b[38;5;28mself\u001b[39m, request: Request, response_handler: Callable[[Response], T]\n\u001b[32m     65\u001b[39m ) -> Result[T]:\n\u001b[32m     66\u001b[39m \u001b[38;5;250m    \u001b[39m\u001b[33;03m\"\"\"Execute an API.\u001b[39;00m\n\u001b[32m     67\u001b[39m \n\u001b[32m     68\u001b[39m \u001b[33;03m    :param request: HTTP request.\u001b[39;00m\n\u001b[32m   (...)\u001b[39m\u001b[32m     72\u001b[39m \u001b[33;03m    :return: API execution result.\u001b[39;00m\n\u001b[32m     73\u001b[39m \u001b[33;03m    \"\"\"\u001b[39;00m\n\u001b[32m---> \u001b[39m\u001b[32m74\u001b[39m     \u001b[38;5;28;01mreturn\u001b[39;00m \u001b[38;5;28;43mself\u001b[39;49m\u001b[43m.\u001b[49m\u001b[43m_executor\u001b[49m\u001b[43m.\u001b[49m\u001b[43mexecute\u001b[49m\u001b[43m(\u001b[49m\u001b[43mrequest\u001b[49m\u001b[43m,\u001b[49m\u001b[43m \u001b[49m\u001b[43mresponse_handler\u001b[49m\u001b[43m)\u001b[49m\n",
      "\u001b[36mFile \u001b[39m\u001b[32mD:\\WorkShit\\project-x\\venv\\Lib\\site-packages\\arango\\executor.py:67\u001b[39m, in \u001b[36mDefaultApiExecutor.execute\u001b[39m\u001b[34m(self, request, response_handler)\u001b[39m\n\u001b[32m     58\u001b[39m \u001b[38;5;250m\u001b[39m\u001b[33;03m\"\"\"Execute an API request and return the result.\u001b[39;00m\n\u001b[32m     59\u001b[39m \n\u001b[32m     60\u001b[39m \u001b[33;03m:param request: HTTP request.\u001b[39;00m\n\u001b[32m   (...)\u001b[39m\u001b[32m     64\u001b[39m \u001b[33;03m:return: API execution result.\u001b[39;00m\n\u001b[32m     65\u001b[39m \u001b[33;03m\"\"\"\u001b[39;00m\n\u001b[32m     66\u001b[39m resp = \u001b[38;5;28mself\u001b[39m._conn.send_request(request)\n\u001b[32m---> \u001b[39m\u001b[32m67\u001b[39m \u001b[38;5;28;01mreturn\u001b[39;00m \u001b[43mresponse_handler\u001b[49m\u001b[43m(\u001b[49m\u001b[43mresp\u001b[49m\u001b[43m)\u001b[49m\n",
      "\u001b[36mFile \u001b[39m\u001b[32mD:\\WorkShit\\project-x\\venv\\Lib\\site-packages\\arango\\database.py:1588\u001b[39m, in \u001b[36mDatabase.create_collection.<locals>.response_handler\u001b[39m\u001b[34m(resp)\u001b[39m\n\u001b[32m   1586\u001b[39m \u001b[38;5;28;01mif\u001b[39;00m resp.is_success:\n\u001b[32m   1587\u001b[39m     \u001b[38;5;28;01mreturn\u001b[39;00m \u001b[38;5;28mself\u001b[39m.collection(name)\n\u001b[32m-> \u001b[39m\u001b[32m1588\u001b[39m \u001b[38;5;28;01mraise\u001b[39;00m CollectionCreateError(resp, request)\n",
      "\u001b[31mCollectionCreateError\u001b[39m: [HTTP 409][ERR 1207] duplicate name"
     ]
    }
   ],
   "source": [
    "print(datasets.dataset_info(\"OPEN_INTELLIGENCE\"))\n",
    "dataset_name = \"OPEN_INTELLIGENCE\"\n",
    "\n",
    "existing_collections = [col[\"name\"] for col in db.collections() if not col[\"system\"]]\n",
    "\n",
    "if any(dataset_name in col for col in existing_collections):\n",
    "    print(f\"Dataset '{dataset_name}' already exists. Skipping reload.\")\n",
    "else:\n",
    "    gdelt = datasets.load(dataset_name, preserve_existing=True)\n",
    "    print(\"Dataset loaded successfully!\")"
   ]
  },
  {
   "cell_type": "code",
   "execution_count": null,
   "id": "6112ec6a-e0f0-4315-92ef-d81d434e0ff4",
   "metadata": {},
   "outputs": [],
   "source": []
  }
 ],
 "metadata": {
  "kernelspec": {
   "display_name": "Python 3 (ipykernel)",
   "language": "python",
   "name": "python3"
  },
  "language_info": {
   "codemirror_mode": {
    "name": "ipython",
    "version": 3
   },
   "file_extension": ".py",
   "mimetype": "text/x-python",
   "name": "python",
   "nbconvert_exporter": "python",
   "pygments_lexer": "ipython3",
   "version": "3.11.4"
  }
 },
 "nbformat": 4,
 "nbformat_minor": 5
}
